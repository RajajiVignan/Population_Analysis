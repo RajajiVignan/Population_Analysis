{
 "cells": [
  {
   "cell_type": "code",
   "execution_count": null,
   "metadata": {},
   "outputs": [
    {
     "data": {
      "application/vnd.jupyter.widget-view+json": {
       "model_id": "96d871f739e246d3bacc0a5ca78cb75e",
       "version_major": 2,
       "version_minor": 0
      },
      "text/plain": [
       "interactive(children=(Dropdown(description='Country:', options=('Afghanistan', 'Africa (UN)', 'Albania', 'Alge…"
      ]
     },
     "metadata": {},
     "output_type": "display_data"
    }
   ],
   "source": [
    "import pandas as pd\n",
    "import plotly.graph_objects as go\n",
    "from ipywidgets import interact, widgets\n",
    "\n",
    "# Load the dataset\n",
    "try:\n",
    "    df = pd.read_csv('population_comparison.csv')\n",
    "    \n",
    "    # Get a list of unique countries for the dropdown\n",
    "    # Filter out non-country aggregates if they exist\n",
    "    countries_to_exclude = ['Africa', 'Asia', 'Europe', 'North America', 'South America', 'Oceania', 'World']\n",
    "    countries = sorted([country for country in df['country'].unique() if country not in countries_to_exclude])\n",
    "\n",
    "    # Define the function to update the plot\n",
    "    def plot_country_population(country):\n",
    "        fig = go.Figure()\n",
    "        \n",
    "        # Filter data for the selected country\n",
    "        country_df = df[df['country'] == country]\n",
    "        \n",
    "        # Add a line for the population\n",
    "        fig.add_trace(go.Scatter(x=country_df['year'], y=country_df['population'], mode='lines+markers', name='Population'))\n",
    "        \n",
    "        # Add a vertical line to distinguish historical from predicted data\n",
    "        fig.add_vline(x=2023.5, line_width=2, line_dash=\"dash\", line_color=\"grey\")\n",
    "        \n",
    "        # Update layout\n",
    "        fig.update_layout(\n",
    "            title=f'Population of {country} Over Time (Historical & Predicted)',\n",
    "            xaxis_title='Year',\n",
    "            yaxis_title='Population',\n",
    "            hovermode='x unified',\n",
    "            annotations=[\n",
    "                dict(x=2018, y=country_df['population'].min(), text=\"Historical\", showarrow=False),\n",
    "                dict(x=2028, y=country_df['population'].min(), text=\"Predicted\", showarrow=False)\n",
    "            ]\n",
    "        )\n",
    "        \n",
    "        fig.show()\n",
    "\n",
    "    # Create the interactive dropdown\n",
    "    if countries:\n",
    "        interact(plot_country_population, country=widgets.Dropdown(options=countries, value=countries[0], description='Country:'))\n",
    "    else:\n",
    "        print(\"No countries found in the data.\")\n",
    "\n",
    "except FileNotFoundError:\n",
    "    print(\"Error: 'population_comparison.csv' not found. Please make sure the file is in the same directory as the notebook.\")"
   ]
  }
 ],
 "metadata": {
  "kernelspec": {
   "display_name": "base",
   "language": "python",
   "name": "python3"
  },
  "language_info": {
   "codemirror_mode": {
    "name": "ipython",
    "version": 3
   },
   "file_extension": ".py",
   "mimetype": "text/x-python",
   "name": "python",
   "nbconvert_exporter": "python",
   "pygments_lexer": "ipython3",
   "version": "3.10.9"
  }
 },
 "nbformat": 4,
 "nbformat_minor": 2
}
